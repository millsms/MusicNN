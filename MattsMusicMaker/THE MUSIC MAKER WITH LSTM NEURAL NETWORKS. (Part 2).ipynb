{
 "cells": [
  {
   "cell_type": "markdown",
   "metadata": {},
   "source": [
    "# THE MUSIC MAKER WITH LSTM NEURAL NETWORKS. (Part 2)\n",
    "\n",
    "Author: Matt Mills; MANTIS project. This is a follow up from the last example where we made a song from training a megaman midi. In that, we only tracked notes and chords, we look to expand that in this document to rests and try more MIDI musical inputs. Here, I will be a lot less descriptive on parts that were covered in part 1"
   ]
  },
  {
   "cell_type": "markdown",
   "metadata": {},
   "source": [
    "# Table of Contents\n",
    "1. [Import and Path Setups](#first-section)\n",
    "2. [Song Load](#second-section)\n",
    "3. [Making LSTM NN Model](#third-section)\n",
    "4. [Predicting new music](#fourth-section)"
   ]
  },
  {
   "cell_type": "markdown",
   "metadata": {},
   "source": [
    "## Import and Path Setups <a class = \"anchor\" id = \"first-section\"></a> "
   ]
  },
  {
   "cell_type": "code",
   "execution_count": 9,
   "metadata": {},
   "outputs": [
    {
     "name": "stdout",
     "output_type": "stream",
     "text": [
      "/home/millsms/Code/MattsMusicMaker\n",
      "['/home/millsms/anaconda3/lib/python36.zip', '/home/millsms/anaconda3/lib/python3.6', '/home/millsms/anaconda3/lib/python3.6/lib-dynload', '', '/home/millsms/.local/lib/python3.6/site-packages', '/home/millsms/anaconda3/lib/python3.6/site-packages', '/home/millsms/.local/lib/python3.6/site-packages/IPython/extensions', '/home/millsms/.ipython']\n"
     ]
    }
   ],
   "source": [
    "from music21 import *\n",
    "import numpy as np\n",
    "import os\n",
    "import sys\n",
    "import tensorflow as tf\n",
    "import keras\n",
    "from keras.models import Sequential\n",
    "from keras.layers import LSTM, Dropout, Dense, Activation\n",
    "from keras.callbacks import ModelCheckpoint\n",
    "import glob\n",
    "\n",
    "print(os.getcwd())\n",
    "print(sys.path)\n",
    "e = environment.Environment()\n",
    "e['musicxmlPath'] ='/usr/bin/musescore'\n",
    "e['musescoreDirectPNGPath'] = '/usr/bin/musescore'"
   ]
  },
  {
   "cell_type": "markdown",
   "metadata": {},
   "source": [
    "## Song load <a class = \"anchor\" id = \"second-section\"></a> "
   ]
  },
  {
   "cell_type": "markdown",
   "metadata": {},
   "source": [
    "This is the first difference, let's include more songs. This is the second difference, let's try to account for more aspects than just notes and chords, now include rests"
   ]
  },
  {
   "cell_type": "code",
   "execution_count": 59,
   "metadata": {},
   "outputs": [],
   "source": [
    "notesFull = []\n",
    "for file in glob.glob(\"MegaManMidi_Multiple/*.mid\"):\n",
    "    myScore = converter.parse(file)\n",
    "    myScoreParts = instrument.partitionByInstrument(myScore)\n",
    "    if myScoreParts: #More than one instrument\n",
    "        notes_to_parse = myScoreParts.parts[0].recurse() #takes first instrument\n",
    "    else:\n",
    "        notes_to_parse = myScoreParts.flat.notes\n",
    "    \n",
    "    \n",
    "    for element in notes_to_parse:\n",
    "        if isinstance(element, note.Note):\n",
    "            notesFull.append(str(element.pitch))\n",
    "        elif isinstance(element, chord.Chord):\n",
    "            notesFull.append('.'.join(str(n) for n in element.normalOrder))\n",
    "        elif isinstance(element, note.Rest):\n",
    "            notesFull.append(str(element.name) + str(element.duration.type))\n",
    "\n"
   ]
  },
  {
   "cell_type": "code",
   "execution_count": null,
   "metadata": {},
   "outputs": [],
   "source": []
  },
  {
   "cell_type": "code",
   "execution_count": 11,
   "metadata": {},
   "outputs": [
    {
     "name": "stdout",
     "output_type": "stream",
     "text": [
      "3832\n",
      "['0.3', '0.4', '0.5', '1.4', '1.5', '10.1', '10.2', '10.3', '11.2', '11.3', '11.4', '2.5', '2.6', '2.7', '3.7', '3.8', '4.7', '4.8', '4.9', '5.10', '5.8', '5.9', '6.10', '6.11', '6.9', '7.10', '7.11', '8.0', '8.1', '8.11', '9.1', '9.2', 'A2', 'A3', 'A4', 'A5', 'B-2', 'B-3', 'B-4', 'B-5', 'B4', 'B5', 'C#3', 'C#4', 'C#5', 'C4', 'C5', 'C6', 'D5', 'D6', 'E-3', 'E-4', 'E-5', 'E-6', 'F#2', 'F#3', 'F#4', 'F#5', 'F3', 'F4', 'F5', 'G#2', 'G#3', 'G#4', 'G#5', 'G2', 'G3', 'G4', 'G5', 'G6', 'rest16th', 'rest32nd', 'restbreve', 'restcomplex', 'resteighth', 'resthalf', 'restinexpressible', 'restquarter']\n"
     ]
    }
   ],
   "source": [
    "print(len(notesFull))\n",
    "notes = notesFull # Use all the notes\n",
    "pitchList = sorted(set(item for item in notes))\n",
    "print(pitchList)"
   ]
  },
  {
   "cell_type": "code",
   "execution_count": 12,
   "metadata": {},
   "outputs": [
    {
     "name": "stdout",
     "output_type": "stream",
     "text": [
      "{'0.3': 0, '0.4': 1, '0.5': 2, '1.4': 3, '1.5': 4, '10.1': 5, '10.2': 6, '10.3': 7, '11.2': 8, '11.3': 9, '11.4': 10, '2.5': 11, '2.6': 12, '2.7': 13, '3.7': 14, '3.8': 15, '4.7': 16, '4.8': 17, '4.9': 18, '5.10': 19, '5.8': 20, '5.9': 21, '6.10': 22, '6.11': 23, '6.9': 24, '7.10': 25, '7.11': 26, '8.0': 27, '8.1': 28, '8.11': 29, '9.1': 30, '9.2': 31, 'A2': 32, 'A3': 33, 'A4': 34, 'A5': 35, 'B-2': 36, 'B-3': 37, 'B-4': 38, 'B-5': 39, 'B4': 40, 'B5': 41, 'C#3': 42, 'C#4': 43, 'C#5': 44, 'C4': 45, 'C5': 46, 'C6': 47, 'D5': 48, 'D6': 49, 'E-3': 50, 'E-4': 51, 'E-5': 52, 'E-6': 53, 'F#2': 54, 'F#3': 55, 'F#4': 56, 'F#5': 57, 'F3': 58, 'F4': 59, 'F5': 60, 'G#2': 61, 'G#3': 62, 'G#4': 63, 'G#5': 64, 'G2': 65, 'G3': 66, 'G4': 67, 'G5': 68, 'G6': 69, 'rest16th': 70, 'rest32nd': 71, 'restbreve': 72, 'restcomplex': 73, 'resteighth': 74, 'resthalf': 75, 'restinexpressible': 76, 'restquarter': 77}\n"
     ]
    }
   ],
   "source": [
    "note2Int = dict((note, number) for number, note in enumerate(pitchList))\n",
    "print(note2Int)"
   ]
  },
  {
   "cell_type": "code",
   "execution_count": 13,
   "metadata": {},
   "outputs": [],
   "source": [
    "network_input = []\n",
    "network_output = []\n",
    "seq_length = 20\n",
    "\n",
    "for i in range(0, len(notes) - seq_length - 1, 1): # Take all sets of k notes as input and store the k+1 as output\n",
    "    seq_in = notes[i:i + seq_length] # k notes\n",
    "    seq_out = notes[i + seq_length + 1] # k+1 note\n",
    "    network_input.append([note2Int[n] for n in seq_in]) # Convert to number and store input\n",
    "    network_output.append(note2Int[seq_out]) # Convert to number and store output"
   ]
  },
  {
   "cell_type": "code",
   "execution_count": 14,
   "metadata": {},
   "outputs": [],
   "source": [
    "network_input = np.reshape(network_input, (len(network_input), seq_length, 1))\n",
    "network_input.shape\n",
    "network_input = network_input / float(len(pitchList))\n",
    "network_output = tf.keras.utils.to_categorical(network_output)"
   ]
  },
  {
   "cell_type": "markdown",
   "metadata": {},
   "source": [
    "## Making LSTM NN Model <a class = \"anchor\" id = \"third-section\"></a> "
   ]
  },
  {
   "cell_type": "code",
   "execution_count": 15,
   "metadata": {},
   "outputs": [
    {
     "name": "stdout",
     "output_type": "stream",
     "text": [
      "(3811, 20, 1)\n",
      "(3811, 78)\n"
     ]
    }
   ],
   "source": [
    "model = Sequential()\n",
    "print(network_input.shape)\n",
    "print(network_output.shape)\n",
    "\n",
    "model.add(LSTM(\n",
    "    256,\n",
    "    input_shape = (network_input.shape[1], network_input.shape[2]), # kx1 notes on input, tells network what to expect\n",
    "    return_sequences = True\n",
    "))\n",
    "model.add(Dropout(0.3))   #These layers can be whatever, try different combinations\n",
    "model.add(LSTM(512, return_sequences=True))\n",
    "model.add(Dropout(0.3))\n",
    "model.add(LSTM(256))\n",
    "model.add(Dense(256))\n",
    "model.add(Dropout(0.3))\n",
    "model.add(Dense(len(pitchList))) # Last layer needs to have same size as our ouputs\n",
    "model.add(Activation('softmax'))\n",
    "model.compile(loss='categorical_crossentropy', optimizer='rmsprop')"
   ]
  },
  {
   "cell_type": "code",
   "execution_count": 16,
   "metadata": {},
   "outputs": [
    {
     "name": "stdout",
     "output_type": "stream",
     "text": [
      "Epoch 1/100\n",
      "3811/3811 [==============================] - 20s 5ms/step - loss: 3.0518\n",
      "Epoch 2/100\n",
      "3811/3811 [==============================] - 18s 5ms/step - loss: 2.9051\n",
      "Epoch 3/100\n",
      "3811/3811 [==============================] - 18s 5ms/step - loss: 2.8428\n",
      "Epoch 4/100\n",
      "3811/3811 [==============================] - 18s 5ms/step - loss: 2.8167\n",
      "Epoch 5/100\n",
      "3811/3811 [==============================] - 18s 5ms/step - loss: 2.7602\n",
      "Epoch 6/100\n",
      "3811/3811 [==============================] - 18s 5ms/step - loss: 2.6708\n",
      "Epoch 7/100\n",
      "3811/3811 [==============================] - 18s 5ms/step - loss: 2.5825\n",
      "Epoch 8/100\n",
      "3811/3811 [==============================] - 19s 5ms/step - loss: 2.4717\n",
      "Epoch 9/100\n",
      "3811/3811 [==============================] - 18s 5ms/step - loss: 2.3182\n",
      "Epoch 10/100\n",
      "3811/3811 [==============================] - 18s 5ms/step - loss: 2.1131\n",
      "Epoch 11/100\n",
      "3811/3811 [==============================] - 18s 5ms/step - loss: 1.8074\n",
      "Epoch 12/100\n",
      "3811/3811 [==============================] - 18s 5ms/step - loss: 1.4917\n",
      "Epoch 13/100\n",
      "3811/3811 [==============================] - 18s 5ms/step - loss: 1.1435\n",
      "Epoch 14/100\n",
      "3811/3811 [==============================] - 18s 5ms/step - loss: 0.9046\n",
      "Epoch 15/100\n",
      "3811/3811 [==============================] - 18s 5ms/step - loss: 0.6897\n",
      "Epoch 16/100\n",
      "3811/3811 [==============================] - 18s 5ms/step - loss: 0.5965\n",
      "Epoch 17/100\n",
      "3811/3811 [==============================] - 18s 5ms/step - loss: 0.4956\n",
      "Epoch 18/100\n",
      "1760/3811 [============>.................] - ETA: 10s - loss: 0.4366"
     ]
    },
    {
     "ename": "KeyboardInterrupt",
     "evalue": "",
     "output_type": "error",
     "traceback": [
      "\u001b[0;31m---------------------------------------------------------------------------\u001b[0m",
      "\u001b[0;31mKeyboardInterrupt\u001b[0m                         Traceback (most recent call last)",
      "\u001b[0;32m<ipython-input-16-813c5dd96074>\u001b[0m in \u001b[0;36m<module>\u001b[0;34m\u001b[0m\n\u001b[1;32m      8\u001b[0m \u001b[0mcallbacks_list\u001b[0m \u001b[0;34m=\u001b[0m \u001b[0;34m[\u001b[0m\u001b[0mcheckpoint\u001b[0m\u001b[0;34m]\u001b[0m\u001b[0;34m\u001b[0m\u001b[0m\n\u001b[1;32m      9\u001b[0m \u001b[0;34m\u001b[0m\u001b[0m\n\u001b[0;32m---> 10\u001b[0;31m \u001b[0mmodel\u001b[0m\u001b[0;34m.\u001b[0m\u001b[0mfit\u001b[0m\u001b[0;34m(\u001b[0m\u001b[0mnetwork_input\u001b[0m\u001b[0;34m,\u001b[0m \u001b[0mnetwork_output\u001b[0m\u001b[0;34m,\u001b[0m \u001b[0mepochs\u001b[0m \u001b[0;34m=\u001b[0m \u001b[0;36m100\u001b[0m\u001b[0;34m,\u001b[0m \u001b[0mbatch_size\u001b[0m \u001b[0;34m=\u001b[0m \u001b[0;36m32\u001b[0m\u001b[0;34m,\u001b[0m \u001b[0mcallbacks\u001b[0m \u001b[0;34m=\u001b[0m \u001b[0mcallbacks_list\u001b[0m\u001b[0;34m)\u001b[0m\u001b[0;34m\u001b[0m\u001b[0m\n\u001b[0m",
      "\u001b[0;32m~/anaconda3/lib/python3.6/site-packages/keras/engine/training.py\u001b[0m in \u001b[0;36mfit\u001b[0;34m(self, x, y, batch_size, epochs, verbose, callbacks, validation_split, validation_data, shuffle, class_weight, sample_weight, initial_epoch, steps_per_epoch, validation_steps, **kwargs)\u001b[0m\n\u001b[1;32m   1037\u001b[0m                                         \u001b[0minitial_epoch\u001b[0m\u001b[0;34m=\u001b[0m\u001b[0minitial_epoch\u001b[0m\u001b[0;34m,\u001b[0m\u001b[0;34m\u001b[0m\u001b[0m\n\u001b[1;32m   1038\u001b[0m                                         \u001b[0msteps_per_epoch\u001b[0m\u001b[0;34m=\u001b[0m\u001b[0msteps_per_epoch\u001b[0m\u001b[0;34m,\u001b[0m\u001b[0;34m\u001b[0m\u001b[0m\n\u001b[0;32m-> 1039\u001b[0;31m                                         validation_steps=validation_steps)\n\u001b[0m\u001b[1;32m   1040\u001b[0m \u001b[0;34m\u001b[0m\u001b[0m\n\u001b[1;32m   1041\u001b[0m     def evaluate(self, x=None, y=None,\n",
      "\u001b[0;32m~/anaconda3/lib/python3.6/site-packages/keras/engine/training_arrays.py\u001b[0m in \u001b[0;36mfit_loop\u001b[0;34m(model, f, ins, out_labels, batch_size, epochs, verbose, callbacks, val_f, val_ins, shuffle, callback_metrics, initial_epoch, steps_per_epoch, validation_steps)\u001b[0m\n\u001b[1;32m    197\u001b[0m                     \u001b[0mins_batch\u001b[0m\u001b[0;34m[\u001b[0m\u001b[0mi\u001b[0m\u001b[0;34m]\u001b[0m \u001b[0;34m=\u001b[0m \u001b[0mins_batch\u001b[0m\u001b[0;34m[\u001b[0m\u001b[0mi\u001b[0m\u001b[0;34m]\u001b[0m\u001b[0;34m.\u001b[0m\u001b[0mtoarray\u001b[0m\u001b[0;34m(\u001b[0m\u001b[0;34m)\u001b[0m\u001b[0;34m\u001b[0m\u001b[0m\n\u001b[1;32m    198\u001b[0m \u001b[0;34m\u001b[0m\u001b[0m\n\u001b[0;32m--> 199\u001b[0;31m                 \u001b[0mouts\u001b[0m \u001b[0;34m=\u001b[0m \u001b[0mf\u001b[0m\u001b[0;34m(\u001b[0m\u001b[0mins_batch\u001b[0m\u001b[0;34m)\u001b[0m\u001b[0;34m\u001b[0m\u001b[0m\n\u001b[0m\u001b[1;32m    200\u001b[0m                 \u001b[0mouts\u001b[0m \u001b[0;34m=\u001b[0m \u001b[0mto_list\u001b[0m\u001b[0;34m(\u001b[0m\u001b[0mouts\u001b[0m\u001b[0;34m)\u001b[0m\u001b[0;34m\u001b[0m\u001b[0m\n\u001b[1;32m    201\u001b[0m                 \u001b[0;32mfor\u001b[0m \u001b[0ml\u001b[0m\u001b[0;34m,\u001b[0m \u001b[0mo\u001b[0m \u001b[0;32min\u001b[0m \u001b[0mzip\u001b[0m\u001b[0;34m(\u001b[0m\u001b[0mout_labels\u001b[0m\u001b[0;34m,\u001b[0m \u001b[0mouts\u001b[0m\u001b[0;34m)\u001b[0m\u001b[0;34m:\u001b[0m\u001b[0;34m\u001b[0m\u001b[0m\n",
      "\u001b[0;32m~/anaconda3/lib/python3.6/site-packages/keras/backend/tensorflow_backend.py\u001b[0m in \u001b[0;36m__call__\u001b[0;34m(self, inputs)\u001b[0m\n\u001b[1;32m   2713\u001b[0m                 \u001b[0;32mreturn\u001b[0m \u001b[0mself\u001b[0m\u001b[0;34m.\u001b[0m\u001b[0m_legacy_call\u001b[0m\u001b[0;34m(\u001b[0m\u001b[0minputs\u001b[0m\u001b[0;34m)\u001b[0m\u001b[0;34m\u001b[0m\u001b[0m\n\u001b[1;32m   2714\u001b[0m \u001b[0;34m\u001b[0m\u001b[0m\n\u001b[0;32m-> 2715\u001b[0;31m             \u001b[0;32mreturn\u001b[0m \u001b[0mself\u001b[0m\u001b[0;34m.\u001b[0m\u001b[0m_call\u001b[0m\u001b[0;34m(\u001b[0m\u001b[0minputs\u001b[0m\u001b[0;34m)\u001b[0m\u001b[0;34m\u001b[0m\u001b[0m\n\u001b[0m\u001b[1;32m   2716\u001b[0m         \u001b[0;32melse\u001b[0m\u001b[0;34m:\u001b[0m\u001b[0;34m\u001b[0m\u001b[0m\n\u001b[1;32m   2717\u001b[0m             \u001b[0;32mif\u001b[0m \u001b[0mpy_any\u001b[0m\u001b[0;34m(\u001b[0m\u001b[0mis_tensor\u001b[0m\u001b[0;34m(\u001b[0m\u001b[0mx\u001b[0m\u001b[0;34m)\u001b[0m \u001b[0;32mfor\u001b[0m \u001b[0mx\u001b[0m \u001b[0;32min\u001b[0m \u001b[0minputs\u001b[0m\u001b[0;34m)\u001b[0m\u001b[0;34m:\u001b[0m\u001b[0;34m\u001b[0m\u001b[0m\n",
      "\u001b[0;32m~/anaconda3/lib/python3.6/site-packages/keras/backend/tensorflow_backend.py\u001b[0m in \u001b[0;36m_call\u001b[0;34m(self, inputs)\u001b[0m\n\u001b[1;32m   2673\u001b[0m             \u001b[0mfetched\u001b[0m \u001b[0;34m=\u001b[0m \u001b[0mself\u001b[0m\u001b[0;34m.\u001b[0m\u001b[0m_callable_fn\u001b[0m\u001b[0;34m(\u001b[0m\u001b[0;34m*\u001b[0m\u001b[0marray_vals\u001b[0m\u001b[0;34m,\u001b[0m \u001b[0mrun_metadata\u001b[0m\u001b[0;34m=\u001b[0m\u001b[0mself\u001b[0m\u001b[0;34m.\u001b[0m\u001b[0mrun_metadata\u001b[0m\u001b[0;34m)\u001b[0m\u001b[0;34m\u001b[0m\u001b[0m\n\u001b[1;32m   2674\u001b[0m         \u001b[0;32melse\u001b[0m\u001b[0;34m:\u001b[0m\u001b[0;34m\u001b[0m\u001b[0m\n\u001b[0;32m-> 2675\u001b[0;31m             \u001b[0mfetched\u001b[0m \u001b[0;34m=\u001b[0m \u001b[0mself\u001b[0m\u001b[0;34m.\u001b[0m\u001b[0m_callable_fn\u001b[0m\u001b[0;34m(\u001b[0m\u001b[0;34m*\u001b[0m\u001b[0marray_vals\u001b[0m\u001b[0;34m)\u001b[0m\u001b[0;34m\u001b[0m\u001b[0m\n\u001b[0m\u001b[1;32m   2676\u001b[0m         \u001b[0;32mreturn\u001b[0m \u001b[0mfetched\u001b[0m\u001b[0;34m[\u001b[0m\u001b[0;34m:\u001b[0m\u001b[0mlen\u001b[0m\u001b[0;34m(\u001b[0m\u001b[0mself\u001b[0m\u001b[0;34m.\u001b[0m\u001b[0moutputs\u001b[0m\u001b[0;34m)\u001b[0m\u001b[0;34m]\u001b[0m\u001b[0;34m\u001b[0m\u001b[0m\n\u001b[1;32m   2677\u001b[0m \u001b[0;34m\u001b[0m\u001b[0m\n",
      "\u001b[0;32m~/anaconda3/lib/python3.6/site-packages/tensorflow/python/client/session.py\u001b[0m in \u001b[0;36m__call__\u001b[0;34m(self, *args, **kwargs)\u001b[0m\n\u001b[1;32m   1437\u001b[0m           ret = tf_session.TF_SessionRunCallable(\n\u001b[1;32m   1438\u001b[0m               \u001b[0mself\u001b[0m\u001b[0;34m.\u001b[0m\u001b[0m_session\u001b[0m\u001b[0;34m.\u001b[0m\u001b[0m_session\u001b[0m\u001b[0;34m,\u001b[0m \u001b[0mself\u001b[0m\u001b[0;34m.\u001b[0m\u001b[0m_handle\u001b[0m\u001b[0;34m,\u001b[0m \u001b[0margs\u001b[0m\u001b[0;34m,\u001b[0m \u001b[0mstatus\u001b[0m\u001b[0;34m,\u001b[0m\u001b[0;34m\u001b[0m\u001b[0m\n\u001b[0;32m-> 1439\u001b[0;31m               run_metadata_ptr)\n\u001b[0m\u001b[1;32m   1440\u001b[0m         \u001b[0;32mif\u001b[0m \u001b[0mrun_metadata\u001b[0m\u001b[0;34m:\u001b[0m\u001b[0;34m\u001b[0m\u001b[0m\n\u001b[1;32m   1441\u001b[0m           \u001b[0mproto_data\u001b[0m \u001b[0;34m=\u001b[0m \u001b[0mtf_session\u001b[0m\u001b[0;34m.\u001b[0m\u001b[0mTF_GetBuffer\u001b[0m\u001b[0;34m(\u001b[0m\u001b[0mrun_metadata_ptr\u001b[0m\u001b[0;34m)\u001b[0m\u001b[0;34m\u001b[0m\u001b[0m\n",
      "\u001b[0;31mKeyboardInterrupt\u001b[0m: "
     ]
    }
   ],
   "source": [
    "outputpath = \"MegaManWeights_Multiple/w-{epoch:02d}.hdf5\"\n",
    "checkpoint = ModelCheckpoint(\n",
    "    outputpath, monitor='loss', \n",
    "    verbose=0,        \n",
    "    save_best_only=True,        \n",
    "    mode='min'\n",
    ")    \n",
    "callbacks_list = [checkpoint]     \n",
    "\n",
    "model.fit(network_input, network_output, epochs = 100, batch_size = 32, callbacks = callbacks_list)"
   ]
  },
  {
   "cell_type": "markdown",
   "metadata": {},
   "source": [
    "## Predicting new music  <a class = \"anchor\" id = \"fourth-section\"></a>"
   ]
  },
  {
   "cell_type": "code",
   "execution_count": 17,
   "metadata": {},
   "outputs": [],
   "source": [
    "predictmodel = Sequential()\n",
    "predictmodel.add(LSTM(\n",
    "    256,\n",
    "    input_shape=(network_input.shape[1], network_input.shape[2]),\n",
    "    return_sequences=True\n",
    "))\n",
    "predictmodel.add(Dropout(0.3))\n",
    "predictmodel.add(LSTM(512, return_sequences=True))\n",
    "predictmodel.add(Dropout(0.3))\n",
    "predictmodel.add(LSTM(256))\n",
    "predictmodel.add(Dense(256))\n",
    "predictmodel.add(Dropout(0.3))\n",
    "predictmodel.add(Dense(len(pitchList)))\n",
    "predictmodel.add(Activation('softmax'))\n",
    "predictmodel.compile(loss='categorical_crossentropy', optimizer='rmsprop')\n",
    "\n",
    "predictmodel.load_weights('MegaManWeights_Multiple/w-16.hdf5')"
   ]
  },
  {
   "cell_type": "code",
   "execution_count": null,
   "metadata": {},
   "outputs": [],
   "source": []
  },
  {
   "cell_type": "code",
   "execution_count": null,
   "metadata": {},
   "outputs": [],
   "source": []
  },
  {
   "cell_type": "code",
   "execution_count": 61,
   "metadata": {},
   "outputs": [],
   "source": [
    "def getPredOutput(numNotes):  \n",
    "    start = np.random.randint(0, len(network_input) -1)\n",
    "    pattern = network_input[start]\n",
    "    pattern = [item for sublist in pattern for item in sublist]\n",
    "    int2Note = dict((number, note) for number, note in enumerate(pitchList))\n",
    "    \n",
    "\n",
    "    prediction_output = []\n",
    "\n",
    "    for note_index in range(numNotes):\n",
    "        prediction_input = np.reshape(pattern, (1, len(pattern), 1))\n",
    "        prediction_input = prediction_input / float(len(pitchList))\n",
    "\n",
    "        prediction = predictmodel.predict(prediction_input, verbose=0)\n",
    "\n",
    "        index = np.argmax(prediction)\n",
    "        result = int2Note[index]\n",
    "        prediction_output.append(result)\n",
    "        pattern.append(index)\n",
    "        pattern = pattern[1:len(pattern)]\n",
    "    \n",
    "    return prediction_output"
   ]
  },
  {
   "cell_type": "code",
   "execution_count": 119,
   "metadata": {},
   "outputs": [],
   "source": [
    "def getOutputNotes(prediction_output, instr):   \n",
    "    offset = 0\n",
    "    output_notes = []\n",
    "\n",
    "    for pattern in prediction_output:\n",
    "        # pattern is a chord\n",
    "        if ('.' in pattern) or pattern.isdigit():\n",
    "            notes_in_chord = pattern.split('.')\n",
    "            notes = []\n",
    "            for current_note in notes_in_chord:\n",
    "                new_note = note.Note(int(current_note))\n",
    "                if(instr == 0):\n",
    "                    new_note.storedInstrument = instrument.Piano()\n",
    "                else:\n",
    "                    new_note.storedInstrument = instrument.Violin()\n",
    "                notes.append(new_note)\n",
    "            new_chord = chord.Chord(notes)\n",
    "            new_chord.offset = offset\n",
    "            output_notes.append(new_chord)\n",
    "        elif ('rest' in pattern):\n",
    "        # pattern is a rest\n",
    "            new_rest = note.Rest()\n",
    "            new_rest.duration.type = str(pattern[4:])\n",
    "            new_rest.offset = offset\n",
    "            if(instr == 0):\n",
    "                new_rest.storedInstrument = instrument.Piano()\n",
    "            else:\n",
    "                new_rest.storedInstrument = instrument.Violin()\n",
    "            output_notes.append(new_rest)\n",
    "        else:\n",
    "            new_note = note.Note(pattern)\n",
    "            new_note.offset = offset\n",
    "            if(instr == 0):\n",
    "                new_note.storedInstrument = instrument.Piano()\n",
    "            else:\n",
    "                new_note.storedInstrument = instrument.Violin()\n",
    "            output_notes.append(new_note)\n",
    "\n",
    "        # increase offset each iteration so that notes do not stack\n",
    "        offset += 0.5\n",
    "    return output_notes"
   ]
  },
  {
   "cell_type": "code",
   "execution_count": 120,
   "metadata": {},
   "outputs": [
    {
     "name": "stdout",
     "output_type": "stream",
     "text": [
      "Violin\n"
     ]
    }
   ],
   "source": [
    "predict1 = getPredOutput(100)\n",
    "output1 = getOutputNotes(predict1, 0)\n",
    "predict2 = getPredOutput(100)\n",
    "output2 = getOutputNotes(predict2, 1)\n",
    "\n",
    "print(output2[1].storedInstrument)"
   ]
  },
  {
   "cell_type": "code",
   "execution_count": 121,
   "metadata": {},
   "outputs": [
    {
     "name": "stdout",
     "output_type": "stream",
     "text": [
      "<music21.stream.Stream 0x7f337a662400>\n"
     ]
    },
    {
     "data": {
      "text/plain": [
       "'MegaManNNOutput/MultiTest.mid'"
      ]
     },
     "execution_count": 121,
     "metadata": {},
     "output_type": "execute_result"
    }
   ],
   "source": [
    "fp='MegaManNNOutput/MultiTest.mid'\n",
    "midi_stream_piano = stream.Stream(output1)\n",
    "midi_stream_violin = stream.Stream(output2)\n",
    "\n",
    "print(midi_stream_violin)\n",
    "\n",
    "midi_stream.write('midi', fp)"
   ]
  },
  {
   "cell_type": "code",
   "execution_count": 128,
   "metadata": {},
   "outputs": [
    {
     "data": {
      "text/html": [
       "\n",
       "                <div id='midiPlayerDiv286739'></div>\n",
       "                <link rel=\"stylesheet\" href=\"//cuthbertLab.github.io/music21j/css/m21.css\"\n",
       "                    type=\"text/css\" />\n",
       "                <script>\n",
       "                require.config({\n",
       "                    paths: {'music21': '//cuthbertLab.github.io/music21j/src/music21'}\n",
       "                });\n",
       "                require(['music21'], function() {\n",
       "                               mp = new music21.miditools.MidiPlayer();\n",
       "                               mp.addPlayer('#midiPlayerDiv286739');\n",
       "                               mp.base64Load('data:audio/midi;base64,TVRoZAAAAAYAAQABBABNVHJrAAAFoQD/AwZWaW9saW4AwCgA4ABAAMAoAJBPWoQAkE9ahACATwAAwAAAkEhahACATwAAkEhahACASAAAkENahACASAAAkEZaAJA/WoQAgEMAAJBGWgCQP1qEAIBGAACAPwAAkEJaAJBGWoQAgEYAAIA/AACQPVoAkEFahACAQgAAgEYAAJA9WgCQQVqEAIA9AACAQQAAkD1aAJBBWoQAgD0AAIBBAACQTlqEAIA9AACAQQAAkE5ahACATgAAkEtahACATgAAkD9ahACASwAAkEdaAJBAWoQAgD8AAJBHWgCQQFqEAIBHAACAQAAAkEFahACARwAAgEAAAJA+WgCQQlqEAIBBAACQPloAkEJahACAPgAAgEIAAJA+WgCQQlqEAIA+AACAQgAAkD5aAJBCWoQAgD4AAIBCAACQRFoAkDxahACAPgAAgEIAAJBGWgCQPVqEAIBEAACAPAAAkD5aAJBCWoQAgEYAAIA9AACQQloAkEdahACAPgAAgEIAAJA+WgCQQlqEAIBCAACARwAAkD5aAJBCWoQAgD4AAIBCAACQPloAkEJahACAPgAAgEIAAJA+WgCQQlqEAIA+AACAQgAAkE9ahACAPgAAgEIAAJA+WgCQQVqEAIBPAACQT1qEAIA+AACAQQAAkE9ahACATwAAkE9ahACATwAAkENahACATwAAkEZaAJA+WoQAgEMAAJBGWgCQPlqEAIBGAACAPgAAkDxaAJA/WoQAgEYAAIA+AACQPVoAkEFahACAPAAAgD8AAJA9WgCQQVqEAIA9AACAQQAAkERaAJA9WoQAgD0AAIBBAACQTlqEAIBEAACAPQAAkE5ahACATgAAkEtahACATgAAkEdaAJA/WoQAgEsAAJBHWgCQQFqEAIBHAACAPwAAkEdaAJBAWoQAgEcAAIBAAACQPloAkEJahACARwAAgEAAAJA9WoQAgD4AAIBCAACQRFqEAIA9AACQRFqEAIBEAACQP1oAkENahACARAAAkEdaAJBAWoQAgD8AAIBDAACQQVoAkERahACARwAAgEAAAJBCWgCQRVqEAIBBAACARAAAkEJaAJBFWoQAgEIAAIBFAACQPloAkENahACAQgAAgEUAAJBPWoQAgD4AAIBDAACQT1qEAIBPAACQSFqEAIBPAACQQVqEAIBIAACQR1oAkEBahACAQQAAkEBaAJBEWoQAgEcAAIBAAACQQloAkEVahACAQAAAgEQAAJA+WgCQQ1qEAIBCAACARQAAkD5aAJBDWoQAgD4AAIBDAACQPloAkENahACAPgAAgEMAAJBOWoQAgD4AAIBDAACQS1qEAIBOAACQS1qEAIBLAACQP1qEAIBLAACQR1oAkEBahACAPwAAkEBaAJBEWoQAgEcAAIBAAACQQVqEAIBAAACARAAAkD5aAJBCWoQAgEEAAJA+WgCQQlqEAIA+AACAQgAAkD5aAJBCWoQAgD4AAIBCAACQPloAkEJahACAPgAAgEIAAJA+WgCQQlqEAIA+AACAQgAAkERaAJA8WoQAgD4AAIBCAACQRloAkD1ahACARAAAgDwAAJBCWgCQR1qEAIBGAACAPQAAkEJaAJBHWoQAgEIAAIBHAACQPloAkEJahACAQgAAgEcAAJA+WgCQQlqEAIA+AACAQgAAkD5aAJBCWoQAgD4AAIBCAACQVFqEAIA+AACAQgAAkE9ahACAVAAAkE9ahACATwAAkEhahACATwAAkENahACASAAAkENahACAQwAAkEZaAJA/WoQAgEMAAJBGWgCQPlqEAIBGAACAPwAAkDxaAJA/WoQAgEYAAIA+AACQPVoAkEFahACAPAAAgD8AAJA9WgCQQVqEAIA9AACAQQAAkERaAJA9WoQAgD0AAIBBAACQQFoAkERahACARAAAgD0AhACAQAAAgEQAiAD/LwA=');\n",
       "                        });\n",
       "                </script>"
      ],
      "text/plain": [
       "<IPython.core.display.HTML object>"
      ]
     },
     "metadata": {},
     "output_type": "display_data"
    }
   ],
   "source": [
    "midiNN =converter.parse(fp)\n",
    "for p in midiNN.parts:\n",
    "     p.insert(0, instrument.Violin())\n",
    "     p.insert(1, instrument.Piano())\n",
    "midiNN.show('midi')\n",
    "#midiNN.show()\n",
    "#midiNN.show('midi')"
   ]
  },
  {
   "cell_type": "code",
   "execution_count": 90,
   "metadata": {},
   "outputs": [],
   "source": [
    "for p in midiNN.parts:\n",
    "    p.insert(0, instrument.Violin())"
   ]
  },
  {
   "cell_type": "code",
   "execution_count": 91,
   "metadata": {},
   "outputs": [
    {
     "data": {
      "text/html": [
       "\n",
       "                <div id='midiPlayerDiv228919'></div>\n",
       "                <link rel=\"stylesheet\" href=\"//cuthbertLab.github.io/music21j/css/m21.css\"\n",
       "                    type=\"text/css\" />\n",
       "                <script>\n",
       "                require.config({\n",
       "                    paths: {'music21': '//cuthbertLab.github.io/music21j/src/music21'}\n",
       "                });\n",
       "                require(['music21'], function() {\n",
       "                               mp = new music21.miditools.MidiPlayer();\n",
       "                               mp.addPlayer('#midiPlayerDiv228919');\n",
       "                               mp.base64Load('data:audio/midi;base64,TVRoZAAAAAYAAQABBABNVHJrAAAEVQD/AwZWaW9saW4AwCgA4ABAAMAoAJBPWoQAgE8AhACQSFqEAIBIAIQAkENahACQRloAkD9ahACAQwAAgEYAAIA/AIQAkEJaAJBGWoQAgEYAAJA9WgCQQVqEAIBCAACAPQAAgEEAhACQPVoAkEFahACAPQAAgEEAAJBOWoQAgE4AhACQS1qEAJA/WoQAgEsAAJBHWgCQQFqEAIA/AACARwAAgEAAhACQQVqEAJA+WgCQQlqEAIBBAACAPgAAgEIAhACQPloAkEJahACAPgAAgEIAAJA+WgCQQlqEAIA+AACAQgAAkERaAJA8WoQAkEZaAJA9WoQAgEQAAIA8AACQPloAkEJahACARgAAgD0AAIBCAACQR1qEAIA+AACQPloAkEJahACARwAAgD4AAIBCAACQQlqEAIBCAACQPloAkEJahACAPgAAgEIAAJA+WgCQQlqEAIA+AACAQgAAkE9ahACQPloAkEFahACATwAAkE9ahACAPgAAgEEAAIBPAIQAkE9ahACATwAAkENahACQRloAkD5ahACAQwAAgEYAAIA+AIQAkDxaAJA/WoQAkD1aAJBBWoQAgDwAAIA/AACAPQAAgEEAhACQRFoAkD1ahACAPQAAkE5ahACARAAAgE4AhACQS1qEAJBHWgCQP1qEAIBLAACARwAAkEBahACAPwAAgEAAAJBHWoQAgEcAAJA+WgCQQlqEAJA9WoQAgD4AAIBCAACQRFqEAIA9AACARACEAJA/WgCQQ1qEAJBHWgCQQFqEAIA/AACAQwAAkEFaAJBEWoQAgEcAAIBAAACQQloAkEVahACAQQAAgEQAAIBCAACARQCEAJA+WgCQQ1qEAJBPWoQAgD4AAIBDAACATwCEAJBIWoQAkEFahACASAAAkEdaAJBAWoQAgEEAAIBAAACQRFqEAIBHAACQQloAkEVahACARAAAkD5aAJBDWoQAgEIAAIBFAACAPgAAgEMAhACQPloAkENahACAPgAAgEMAAJBOWoQAkEtahACATgAAgEsAhACQP1qEAJBHWgCQQFqEAIA/AACAQAAAkERahACARwAAkEFahACARAAAkD5aAJBCWoQAgEEAAIA+AACAQgCEAJA+WgCQQlqEAIA+AACAQgAAkD5aAJBCWoQAgD4AAIBCAACQPloAkEJahACAPgAAgEIAAJBEWgCQPFqEAJBGWgCQPVqEAIBEAACAPAAAkEJaAJBHWoQAgEYAAIA9AACAQgAAgEcAhACQPloAkEJahACAPgAAgEIAAJBCWoQAgEIAAJA+WgCQQlqEAIA+AACAQgAAkFRahACQT1qEAIBUAACATwCEAJBIWoQAkENahACASAAAgEMAhACQRloAkD9ahACARgAAkD5ahACAPwAAkDxaAJA/WoQAgD4AAJA9WgCQQVqEAIA8AACAPwAAgD0AAIBBAIQAkERaAJA9WoQAgEQAAIA9AACQQFqIAIBAAIgA/y8A');\n",
       "                        });\n",
       "                </script>"
      ],
      "text/plain": [
       "<IPython.core.display.HTML object>"
      ]
     },
     "metadata": {},
     "output_type": "display_data"
    }
   ],
   "source": [
    "midiNN.show('midi')"
   ]
  },
  {
   "cell_type": "code",
   "execution_count": null,
   "metadata": {},
   "outputs": [],
   "source": []
  }
 ],
 "metadata": {
  "kernelspec": {
   "display_name": "Python 3",
   "language": "python",
   "name": "python3"
  },
  "language_info": {
   "codemirror_mode": {
    "name": "ipython",
    "version": 3
   },
   "file_extension": ".py",
   "mimetype": "text/x-python",
   "name": "python",
   "nbconvert_exporter": "python",
   "pygments_lexer": "ipython3",
   "version": "3.6.6"
  }
 },
 "nbformat": 4,
 "nbformat_minor": 2
}
