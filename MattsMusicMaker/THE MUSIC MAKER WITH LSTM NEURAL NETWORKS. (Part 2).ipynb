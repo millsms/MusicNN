{
 "cells": [
  {
   "cell_type": "markdown",
   "metadata": {},
   "source": [
    "# THE MUSIC MAKER WITH LSTM NEURAL NETWORKS. (Part 2)\n",
    "\n",
    "Author: Matt Mills; MANTIS project. This is a follow up from the last example where we made a song from training a megaman midi. In that, we only tracked notes and chords, we look to expand that in this document. Here, I will be a lot less descriptive on parts that were covered in part 1"
   ]
  },
  {
   "cell_type": "markdown",
   "metadata": {},
   "source": [
    "# Table of Contents\n",
    "1. [Import and Path Setups](#first-section)\n",
    "2. [Loading songs with music21](#second-section)\n",
    "3. [Modeling with a LSTM neural network](#third-section)\n",
    "4. [Predicting new music with LSTM neural network](#fourth-section)"
   ]
  },
  {
   "cell_type": "markdown",
   "metadata": {},
   "source": [
    "## Import and Path Setups <a class = \"anchor\" id = \"first-section\"></a> "
   ]
  },
  {
   "cell_type": "code",
   "execution_count": null,
   "metadata": {},
   "outputs": [],
   "source": []
  }
 ],
 "metadata": {
  "kernelspec": {
   "display_name": "Python 3",
   "language": "python",
   "name": "python3"
  },
  "language_info": {
   "codemirror_mode": {
    "name": "ipython",
    "version": 3
   },
   "file_extension": ".py",
   "mimetype": "text/x-python",
   "name": "python",
   "nbconvert_exporter": "python",
   "pygments_lexer": "ipython3",
   "version": "3.6.6"
  }
 },
 "nbformat": 4,
 "nbformat_minor": 2
}
